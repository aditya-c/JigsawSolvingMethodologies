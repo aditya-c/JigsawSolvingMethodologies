{
 "cells": [
  {
   "cell_type": "code",
   "execution_count": 1,
   "metadata": {},
   "outputs": [
    {
     "name": "stdout",
     "output_type": "stream",
     "text": [
      "[1, 0, 0]\n",
      "[0, 1, 0]\n",
      "[0, 0, 1]\n",
      "\n",
      "[1, 0, 0]\n",
      "[0, 0, 1]\n",
      "[0, 1, 0]\n",
      "\n",
      "[0, 1, 0]\n",
      "[1, 0, 0]\n",
      "[0, 0, 1]\n",
      "\n",
      "[0, 1, 0]\n",
      "[0, 0, 1]\n",
      "[1, 0, 0]\n",
      "\n",
      "[0, 0, 1]\n",
      "[1, 0, 0]\n",
      "[0, 1, 0]\n",
      "\n",
      "[0, 0, 1]\n",
      "[0, 1, 0]\n",
      "[1, 0, 0]\n",
      "\n",
      "3628800\n"
     ]
    }
   ],
   "source": [
    "import itertools\n",
    "\n",
    "def I(n):\n",
    "    A = []\n",
    "    for i in range(n):\n",
    "        A.append([1 if j == i else 0 for j in range(n)])\n",
    "    return A\n",
    "\n",
    "#tests:\n",
    "\n",
    "A = I(3)\n",
    "\n",
    "for m in itertools.permutations(A):\n",
    "    print('\\n'.join(str(row) for row in m))\n",
    "    print('')\n",
    "\n",
    "A = I(11)\n",
    "count = 0\n",
    "for m in itertools.permutations(A):\n",
    "    count = count + m[0][0] #for testing purposes\n",
    "print(count)"
   ]
  },
  {
   "cell_type": "code",
   "execution_count": null,
   "metadata": {},
   "outputs": [],
   "source": [
    "A = I(9)\n",
    "permmats = []\n",
    "for m in itertools.permutations(A):\n",
    "    "
   ]
  }
 ],
 "metadata": {
  "kernelspec": {
   "display_name": "Python 2",
   "language": "python",
   "name": "python2"
  },
  "language_info": {
   "codemirror_mode": {
    "name": "ipython",
    "version": 2
   },
   "file_extension": ".py",
   "mimetype": "text/x-python",
   "name": "python",
   "nbconvert_exporter": "python",
   "pygments_lexer": "ipython2",
   "version": "2.7.14"
  }
 },
 "nbformat": 4,
 "nbformat_minor": 2
}
