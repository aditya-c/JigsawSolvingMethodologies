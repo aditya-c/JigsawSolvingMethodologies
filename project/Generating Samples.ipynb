{
 "cells": [
  {
   "cell_type": "code",
   "execution_count": 1,
   "metadata": {
    "ExecuteTime": {
     "end_time": "2018-12-09T00:07:33.004619Z",
     "start_time": "2018-12-09T00:07:32.159512Z"
    }
   },
   "outputs": [],
   "source": [
    "import torch\n",
    "import torchvision\n",
    "import torchvision.transforms as transforms"
   ]
  },
  {
   "cell_type": "code",
   "execution_count": 2,
   "metadata": {
    "ExecuteTime": {
     "end_time": "2018-12-09T00:07:33.839347Z",
     "start_time": "2018-12-09T00:07:33.494542Z"
    }
   },
   "outputs": [],
   "source": [
    "import matplotlib.pyplot as plt\n",
    "import numpy as np"
   ]
  },
  {
   "cell_type": "markdown",
   "metadata": {},
   "source": [
    "### Load CIFAR-10"
   ]
  },
  {
   "cell_type": "code",
   "execution_count": 3,
   "metadata": {
    "ExecuteTime": {
     "end_time": "2018-12-09T00:07:33.964805Z",
     "start_time": "2018-12-09T00:07:33.961691Z"
    }
   },
   "outputs": [],
   "source": [
    "classes = ('plane', 'car', 'bird', 'cat',\n",
    "           'deer', 'dog', 'frog', 'horse', 'ship', 'truck')"
   ]
  },
  {
   "cell_type": "code",
   "execution_count": 36,
   "metadata": {
    "ExecuteTime": {
     "end_time": "2018-12-09T00:17:57.686154Z",
     "start_time": "2018-12-09T00:17:56.782407Z"
    }
   },
   "outputs": [
    {
     "name": "stdout",
     "output_type": "stream",
     "text": [
      "Files already downloaded and verified\n"
     ]
    }
   ],
   "source": [
    "transform = transforms.Compose(\n",
    "    [transforms.ToTensor(),\n",
    "     transforms.Normalize((0.5, 0.5, 0.5), (0.5, 0.5, 0.5))])\n",
    "\n",
    "# train data\n",
    "trainset = torchvision.datasets.CIFAR10(root='./data', train=True,\n",
    "                                        download=True, transform=transform)\n",
    "trainloader = torch.utils.data.DataLoader(trainset, batch_size=4,\n",
    "                                          shuffle=True, num_workers=2)\n",
    "\n",
    "# test data -- for later\n",
    "# testset = torchvision.datasets.CIFAR10(root='./data', train=False,\n",
    "#                                        download=True, transform=transform)\n",
    "# testloader = torch.utils.data.DataLoader(testset, batch_size=4,\n",
    "#                                          shuffle=False, num_workers=2)\n"
   ]
  },
  {
   "cell_type": "code",
   "execution_count": 37,
   "metadata": {
    "ExecuteTime": {
     "end_time": "2018-12-09T00:17:57.702736Z",
     "start_time": "2018-12-09T00:17:57.698186Z"
    }
   },
   "outputs": [],
   "source": [
    "def show_images(img):\n",
    "    img = img / 2 + 0.5     # unnormalize\n",
    "    npimg = img.numpy()\n",
    "    plt.imshow(np.transpose(npimg, (1, 2, 0)))"
   ]
  },
  {
   "cell_type": "code",
   "execution_count": 38,
   "metadata": {
    "ExecuteTime": {
     "end_time": "2018-12-09T00:17:57.827026Z",
     "start_time": "2018-12-09T00:17:57.821855Z"
    }
   },
   "outputs": [
    {
     "data": {
      "text/plain": [
       "{'_DataLoader__initialized': True,\n",
       " 'batch_sampler': <torch.utils.data.sampler.BatchSampler at 0x10deeb8d0>,\n",
       " 'batch_size': 4,\n",
       " 'collate_fn': <function torch.utils.data.dataloader.default_collate>,\n",
       " 'dataset': Dataset CIFAR10\n",
       "     Number of datapoints: 50000\n",
       "     Split: train\n",
       "     Root Location: ./data\n",
       "     Transforms (if any): Compose(\n",
       "                              ToTensor()\n",
       "                              Normalize(mean=(0.5, 0.5, 0.5), std=(0.5, 0.5, 0.5))\n",
       "                          )\n",
       "     Target Transforms (if any): None,\n",
       " 'drop_last': False,\n",
       " 'num_workers': 2,\n",
       " 'pin_memory': False,\n",
       " 'sampler': <torch.utils.data.sampler.RandomSampler at 0x10deeb1d0>,\n",
       " 'timeout': 0,\n",
       " 'worker_init_fn': None}"
      ]
     },
     "execution_count": 38,
     "metadata": {},
     "output_type": "execute_result"
    }
   ],
   "source": [
    "vars(trainloader)"
   ]
  },
  {
   "cell_type": "code",
   "execution_count": 39,
   "metadata": {
    "ExecuteTime": {
     "end_time": "2018-12-09T00:17:58.298973Z",
     "start_time": "2018-12-09T00:17:58.162859Z"
    }
   },
   "outputs": [
    {
     "name": "stdout",
     "output_type": "stream",
     "text": [
      "  dog plane   cat truck\n"
     ]
    },
    {
     "data": {
      "image/png": "[encoded data removed]",
      "text/plain": [
       "<matplotlib.figure.Figure at 0x10de2b940>"
      ]
     },
     "metadata": {},
     "output_type": "display_data"
    }
   ],
   "source": [
    "# get some random training images\n",
    "dataiter = iter(trainloader)\n",
    "images, labels = dataiter.next()\n",
    "\n",
    "# show images\n",
    "show_images(torchvision.utils.make_grid(images))\n",
    "# print labels\n",
    "print(' '.join('%5s' % classes[labels[j]] for j in range(4)))"
   ]
  },
  {
   "cell_type": "markdown",
   "metadata": {},
   "source": [
    "### splicing images"
   ]
  },
  {
   "cell_type": "code",
   "execution_count": 8,
   "metadata": {
    "ExecuteTime": {
     "end_time": "2018-12-09T00:09:08.034231Z",
     "start_time": "2018-12-09T00:09:08.027519Z"
    }
   },
   "outputs": [
    {
     "data": {
      "text/plain": [
       "torch.Size([4, 3, 32, 32])"
      ]
     },
     "execution_count": 8,
     "metadata": {},
     "output_type": "execute_result"
    }
   ],
   "source": [
    "images.shape"
   ]
  },
  {
   "cell_type": "code",
   "execution_count": 9,
   "metadata": {
    "ExecuteTime": {
     "end_time": "2018-12-09T00:09:10.680955Z",
     "start_time": "2018-12-09T00:09:10.675828Z"
    }
   },
   "outputs": [],
   "source": [
    "def splice_images(img_batch, piece_size):\n",
    "    assert len(img_batch.shape) == 4,\"Provide batches of inputs\"\n",
    "    assert not img_batch.shape[2] % piece_size and not img_batch.shape[3] % piece_size\n",
    "    "
   ]
  },
  {
   "cell_type": "code",
   "execution_count": 14,
   "metadata": {
    "ExecuteTime": {
     "end_time": "2018-11-28T05:06:18.733356Z",
     "start_time": "2018-11-28T05:06:18.693959Z"
    }
   },
   "outputs": [],
   "source": [
    "transforms.FiveCrop??"
   ]
  },
  {
   "cell_type": "markdown",
   "metadata": {},
   "source": [
    "# Test"
   ]
  },
  {
   "cell_type": "code",
   "execution_count": 19,
   "metadata": {
    "ExecuteTime": {
     "end_time": "2018-12-09T00:11:33.111184Z",
     "start_time": "2018-12-09T00:11:33.107230Z"
    }
   },
   "outputs": [],
   "source": [
    "import numpy as np\n",
    "import torch"
   ]
  },
  {
   "cell_type": "code",
   "execution_count": 25,
   "metadata": {
    "ExecuteTime": {
     "end_time": "2018-12-09T00:11:59.295130Z",
     "start_time": "2018-12-09T00:11:59.291117Z"
    }
   },
   "outputs": [],
   "source": [
    "a = np.arange(36*3).reshape(6,-1,3)"
   ]
  },
  {
   "cell_type": "code",
   "execution_count": 26,
   "metadata": {
    "ExecuteTime": {
     "end_time": "2018-12-09T00:11:59.898334Z",
     "start_time": "2018-12-09T00:11:59.892598Z"
    }
   },
   "outputs": [
    {
     "data": {
      "text/plain": [
       "array([[[  0,   1,   2],\n",
       "        [  3,   4,   5],\n",
       "        [  6,   7,   8],\n",
       "        [  9,  10,  11],\n",
       "        [ 12,  13,  14],\n",
       "        [ 15,  16,  17]],\n",
       "\n",
       "       [[ 18,  19,  20],\n",
       "        [ 21,  22,  23],\n",
       "        [ 24,  25,  26],\n",
       "        [ 27,  28,  29],\n",
       "        [ 30,  31,  32],\n",
       "        [ 33,  34,  35]],\n",
       "\n",
       "       [[ 36,  37,  38],\n",
       "        [ 39,  40,  41],\n",
       "        [ 42,  43,  44],\n",
       "        [ 45,  46,  47],\n",
       "        [ 48,  49,  50],\n",
       "        [ 51,  52,  53]],\n",
       "\n",
       "       [[ 54,  55,  56],\n",
       "        [ 57,  58,  59],\n",
       "        [ 60,  61,  62],\n",
       "        [ 63,  64,  65],\n",
       "        [ 66,  67,  68],\n",
       "        [ 69,  70,  71]],\n",
       "\n",
       "       [[ 72,  73,  74],\n",
       "        [ 75,  76,  77],\n",
       "        [ 78,  79,  80],\n",
       "        [ 81,  82,  83],\n",
       "        [ 84,  85,  86],\n",
       "        [ 87,  88,  89]],\n",
       "\n",
       "       [[ 90,  91,  92],\n",
       "        [ 93,  94,  95],\n",
       "        [ 96,  97,  98],\n",
       "        [ 99, 100, 101],\n",
       "        [102, 103, 104],\n",
       "        [105, 106, 107]]])"
      ]
     },
     "execution_count": 26,
     "metadata": {},
     "output_type": "execute_result"
    }
   ],
   "source": [
    "a"
   ]
  },
  {
   "cell_type": "code",
   "execution_count": 27,
   "metadata": {
    "ExecuteTime": {
     "end_time": "2018-12-09T00:12:15.755760Z",
     "start_time": "2018-12-09T00:12:15.751128Z"
    }
   },
   "outputs": [
    {
     "data": {
      "text/plain": [
       "(6, 6, 3)"
      ]
     },
     "execution_count": 27,
     "metadata": {},
     "output_type": "execute_result"
    }
   ],
   "source": [
    "a.shape"
   ]
  },
  {
   "cell_type": "code",
   "execution_count": 28,
   "metadata": {
    "ExecuteTime": {
     "end_time": "2018-12-09T00:12:17.490392Z",
     "start_time": "2018-12-09T00:12:17.486133Z"
    }
   },
   "outputs": [],
   "source": [
    "shape = (2,3)"
   ]
  },
  {
   "cell_type": "code",
   "execution_count": 35,
   "metadata": {
    "ExecuteTime": {
     "end_time": "2018-12-09T00:16:55.414690Z",
     "start_time": "2018-12-09T00:16:55.406015Z"
    }
   },
   "outputs": [
    {
     "data": {
      "text/plain": [
       "array([[[[  0,   1,   2],\n",
       "         [  3,   4,   5],\n",
       "         [  6,   7,   8]],\n",
       "\n",
       "        [[ 18,  19,  20],\n",
       "         [ 21,  22,  23],\n",
       "         [ 24,  25,  26]]],\n",
       "\n",
       "\n",
       "       [[[  9,  10,  11],\n",
       "         [ 12,  13,  14],\n",
       "         [ 15,  16,  17]],\n",
       "\n",
       "        [[ 27,  28,  29],\n",
       "         [ 30,  31,  32],\n",
       "         [ 33,  34,  35]]],\n",
       "\n",
       "\n",
       "       [[[ 36,  37,  38],\n",
       "         [ 39,  40,  41],\n",
       "         [ 42,  43,  44]],\n",
       "\n",
       "        [[ 54,  55,  56],\n",
       "         [ 57,  58,  59],\n",
       "         [ 60,  61,  62]]],\n",
       "\n",
       "\n",
       "       [[[ 45,  46,  47],\n",
       "         [ 48,  49,  50],\n",
       "         [ 51,  52,  53]],\n",
       "\n",
       "        [[ 63,  64,  65],\n",
       "         [ 66,  67,  68],\n",
       "         [ 69,  70,  71]]],\n",
       "\n",
       "\n",
       "       [[[ 72,  73,  74],\n",
       "         [ 75,  76,  77],\n",
       "         [ 78,  79,  80]],\n",
       "\n",
       "        [[ 90,  91,  92],\n",
       "         [ 93,  94,  95],\n",
       "         [ 96,  97,  98]]],\n",
       "\n",
       "\n",
       "       [[[ 81,  82,  83],\n",
       "         [ 84,  85,  86],\n",
       "         [ 87,  88,  89]],\n",
       "\n",
       "        [[ 99, 100, 101],\n",
       "         [102, 103, 104],\n",
       "         [105, 106, 107]]]])"
      ]
     },
     "execution_count": 35,
     "metadata": {},
     "output_type": "execute_result"
    }
   ],
   "source": [
    "# b = a.reshape(a.shape[0]//shape[0],shape[0],-1)\n",
    "x,y = a.shape[0]//shape[0], a.shape[1]//shape[1]\n",
    "b = a.reshape(x,shape[0],y,shape[1],-1).swapaxes(1,2).reshape(x*y,shape[0],shape[1],-1)\n",
    "b"
   ]
  },
  {
   "cell_type": "markdown",
   "metadata": {},
   "source": [
    "# Test on image"
   ]
  },
  {
   "cell_type": "code",
   "execution_count": 75,
   "metadata": {
    "ExecuteTime": {
     "end_time": "2018-12-09T00:31:13.449876Z",
     "start_time": "2018-12-09T00:31:13.347139Z"
    }
   },
   "outputs": [
    {
     "data": {
      "image/png": "[encoded data removed]",
      "text/plain": [
       "<matplotlib.figure.Figure at 0x1418ebd30>"
      ]
     },
     "metadata": {},
     "output_type": "display_data"
    }
   ],
   "source": [
    "show_images(images[0])"
   ]
  },
  {
   "cell_type": "code",
   "execution_count": 88,
   "metadata": {
    "ExecuteTime": {
     "end_time": "2018-12-09T00:37:37.430311Z",
     "start_time": "2018-12-09T00:37:37.424781Z"
    }
   },
   "outputs": [
    {
     "data": {
      "text/plain": [
       "torch.Size([32, 32, 3])"
      ]
     },
     "execution_count": 88,
     "metadata": {},
     "output_type": "execute_result"
    }
   ],
   "source": [
    "images[0].transpose(0,2).shape"
   ]
  },
  {
   "cell_type": "code",
   "execution_count": 89,
   "metadata": {
    "ExecuteTime": {
     "end_time": "2018-12-09T00:38:52.512932Z",
     "start_time": "2018-12-09T00:38:52.502791Z"
    }
   },
   "outputs": [],
   "source": [
    "def cut_img(img, shape = (4,4)):\n",
    "    a = img.transpose(0, 1).transpose(1,2)\n",
    "    x,y = a.shape[0]//shape[0], a.shape[1]//shape[1]\n",
    "    b = a.reshape(x,shape[0],y,shape[1],-1).transpose(1,2)\n",
    "    b = b.reshape(x*y,shape[0],shape[1],-1)\n",
    "    #transpose to torch accepted standard\n",
    "    b = b.transpose(2,3).transpose(1,2)\n",
    "    return b"
   ]
  },
  {
   "cell_type": "code",
   "execution_count": 90,
   "metadata": {
    "ExecuteTime": {
     "end_time": "2018-12-09T00:38:52.994683Z",
     "start_time": "2018-12-09T00:38:52.990924Z"
    }
   },
   "outputs": [],
   "source": [
    "t = cut_img(images[0], (8,8))"
   ]
  },
  {
   "cell_type": "code",
   "execution_count": 91,
   "metadata": {
    "ExecuteTime": {
     "end_time": "2018-12-09T00:38:53.569153Z",
     "start_time": "2018-12-09T00:38:53.562536Z"
    }
   },
   "outputs": [
    {
     "data": {
      "text/plain": [
       "torch.Size([16, 3, 8, 8])"
      ]
     },
     "execution_count": 91,
     "metadata": {},
     "output_type": "execute_result"
    }
   ],
   "source": [
    "t.shape"
   ]
  },
  {
   "cell_type": "code",
   "execution_count": 92,
   "metadata": {
    "ExecuteTime": {
     "end_time": "2018-12-09T00:38:54.122217Z",
     "start_time": "2018-12-09T00:38:54.117255Z"
    }
   },
   "outputs": [
    {
     "data": {
      "text/plain": [
       "torch.Size([3, 32, 32])"
      ]
     },
     "execution_count": 92,
     "metadata": {},
     "output_type": "execute_result"
    }
   ],
   "source": [
    "images[0].shape"
   ]
  },
  {
   "cell_type": "code",
   "execution_count": 93,
   "metadata": {
    "ExecuteTime": {
     "end_time": "2018-12-09T00:38:56.243670Z",
     "start_time": "2018-12-09T00:38:56.238153Z"
    }
   },
   "outputs": [
    {
     "data": {
      "text/plain": [
       "torch.Size([16, 3, 8, 8])"
      ]
     },
     "execution_count": 93,
     "metadata": {},
     "output_type": "execute_result"
    }
   ],
   "source": [
    "t.shape"
   ]
  },
  {
   "cell_type": "code",
   "execution_count": 94,
   "metadata": {
    "ExecuteTime": {
     "end_time": "2018-12-09T00:38:56.629310Z",
     "start_time": "2018-12-09T00:38:56.533713Z"
    }
   },
   "outputs": [
    {
     "data": {
      "image/png": "[encoded data removed]",
      "text/plain": [
       "<matplotlib.figure.Figure at 0x1417394a8>"
      ]
     },
     "metadata": {},
     "output_type": "display_data"
    }
   ],
   "source": [
    "show_images(t[7])"
   ]
  },
  {
   "cell_type": "markdown",
   "metadata": {},
   "source": [
    "# cut images"
   ]
  },
  {
   "cell_type": "code",
   "execution_count": 109,
   "metadata": {
    "ExecuteTime": {
     "end_time": "2018-12-09T00:47:32.436596Z",
     "start_time": "2018-12-09T00:47:32.421532Z"
    }
   },
   "outputs": [],
   "source": [
    "def cut_torch_imgs(imgs, shape = (4,4)):\n",
    "    # imgs is a batch of images -- expected n*c*h*w\n",
    "    # shape is the shape of each piece\n",
    "    # returns n*pieces*c*h*w\n",
    "    assert len(imgs.shape) == 4,\"Provide batches of inputs\"\n",
    "    assert not imgs.shape[2] % shape[0], \"undivisible height for piece size\"\n",
    "    assert not imgs.shape[3] % shape[1], \"undivisible width for piece size\"\n",
    "    \n",
    "    a = imgs.transpose(1, 2).transpose(2,3)\n",
    "    c = a[0].shape[-1]\n",
    "    x,y = a[0].shape[0]//shape[0], a[0].shape[1]//shape[1]\n",
    "    b = a.reshape(-1,x,shape[0],y,shape[1],c).transpose(2,3)\n",
    "    b = b.reshape(-1,x*y,shape[0],shape[1],c)\n",
    "    #transpose to torch accepted standard\n",
    "    b = b.transpose(3,4).transpose(2,3)\n",
    "    return b"
   ]
  },
  {
   "cell_type": "code",
   "execution_count": 110,
   "metadata": {
    "ExecuteTime": {
     "end_time": "2018-12-09T00:47:32.771007Z",
     "start_time": "2018-12-09T00:47:32.767866Z"
    }
   },
   "outputs": [],
   "source": [
    "s = cut_torch_imgs(images[0:4], (8,8))"
   ]
  },
  {
   "cell_type": "code",
   "execution_count": 111,
   "metadata": {
    "ExecuteTime": {
     "end_time": "2018-12-09T00:47:33.654277Z",
     "start_time": "2018-12-09T00:47:33.648645Z"
    }
   },
   "outputs": [
    {
     "data": {
      "text/plain": [
       "(torch.Size([1, 3, 32, 32]), torch.Size([4, 16, 3, 8, 8]))"
      ]
     },
     "execution_count": 111,
     "metadata": {},
     "output_type": "execute_result"
    }
   ],
   "source": [
    "images[0:1].shape, s.shape"
   ]
  },
  {
   "cell_type": "code",
   "execution_count": 112,
   "metadata": {
    "ExecuteTime": {
     "end_time": "2018-12-09T00:47:33.974357Z",
     "start_time": "2018-12-09T00:47:33.871978Z"
    }
   },
   "outputs": [
    {
     "data": {
      "image/png": "[encoded data removed]",
      "text/plain": [
       "<matplotlib.figure.Figure at 0x10e136ef0>"
      ]
     },
     "metadata": {},
     "output_type": "display_data"
    }
   ],
   "source": [
    "show_images(s[0][7])"
   ]
  },
  {
   "cell_type": "code",
   "execution_count": null,
   "metadata": {},
   "outputs": [],
   "source": []
  },
  {
   "cell_type": "code",
   "execution_count": null,
   "metadata": {},
   "outputs": [],
   "source": []
  }
 ],
 "metadata": {
  "kernelspec": {
   "display_name": "Python 3",
   "language": "python",
   "name": "python3"
  },
  "language_info": {
   "codemirror_mode": {
    "name": "ipython",
    "version": 3
   },
   "file_extension": ".py",
   "mimetype": "text/x-python",
   "name": "python",
   "nbconvert_exporter": "python",
   "pygments_lexer": "ipython3",
   "version": "3.6.4"
  },
  "varInspector": {
   "cols": {
    "lenName": 16,
    "lenType": 16,
    "lenVar": 40
   },
   "kernels_config": {
    "python": {
     "delete_cmd_postfix": "",
     "delete_cmd_prefix": "del ",
     "library": "var_list.py",
     "varRefreshCmd": "print(var_dic_list())"
    },
    "r": {
     "delete_cmd_postfix": ") ",
     "delete_cmd_prefix": "rm(",
     "library": "var_list.r",
     "varRefreshCmd": "cat(var_dic_list()) "
    }
   },
   "types_to_exclude": [
    "module",
    "function",
    "builtin_function_or_method",
    "instance",
    "_Feature"
   ],
   "window_display": false
  }
 },
 "nbformat": 4,
 "nbformat_minor": 2
}
